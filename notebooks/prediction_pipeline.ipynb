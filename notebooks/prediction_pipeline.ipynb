{
 "cells": [
  {
   "cell_type": "code",
   "execution_count": 1,
   "id": "6663ea32-46ab-4cad-8547-4157759d1f43",
   "metadata": {},
   "outputs": [],
   "source": [
    "import pandas as pd\n",
    "import pickle\n"
   ]
  },
  {
   "cell_type": "code",
   "execution_count": 27,
   "id": "607bd4bb-eb55-4c10-a72f-9f2cba34f805",
   "metadata": {},
   "outputs": [
    {
     "name": "stdout",
     "output_type": "stream",
     "text": [
      "Risk Prediction (1 = At Risk, 0 = Not At Risk): 0\n"
     ]
    }
   ],
   "source": [
    "# Load the trained RandomForestClassifier model from the pickle file\n",
    "with open('../static/model/model.pickle', 'rb') as file:\n",
    "    clf_loaded = pickle.load(file)\n",
    "\n",
    "# Define the new student data including all the required factors\n",
    "new_student = pd.DataFrame({\n",
    "    'Gender': [1],  \n",
    "    'Attendance Rate (%)': [70],\n",
    "    'Course Engagement (%)': [80],\n",
    "    'Previous Academic Performance (%)': [70],\n",
    "    'Study Hours': [10],\n",
    "    'Extracurricular': [1],  \n",
    "    'Mother Qualification': [1],  \n",
    "    'Father Qualification': [1],  \n",
    "    'Health Issues': [0],\n",
    "    'Disciplinary Actions': [0],\n",
    "    'Learning Disabilities': [0],\n",
    "    'Socioeconomic Status': [2],\n",
    "})\n",
    "\n",
    "# Get the expected feature names from the trained model\n",
    "expected_features = clf_loaded.feature_names_in_\n",
    "\n",
    "# Check if the new data frame contains all expected features\n",
    "missing_features = set(expected_features) - set(new_student.columns)\n",
    "if missing_features:\n",
    "    print(f\"Missing features: {missing_features}\")\n",
    "else:\n",
    "    # Reorder the new data according to the expected feature names\n",
    "    new_student = new_student[expected_features]\n",
    "\n",
    "    # Make the prediction using the loaded model\n",
    "    prediction = clf_loaded.predict(new_student)\n",
    "    print(\"Risk Prediction (1 = At Risk, 0 = Not At Risk):\", prediction[0])\n"
   ]
  },
  {
   "cell_type": "code",
   "execution_count": null,
   "id": "bf569117-d2f0-4906-bb46-b13b73a812cf",
   "metadata": {},
   "outputs": [],
   "source": []
  }
 ],
 "metadata": {
  "kernelspec": {
   "display_name": "Python 3 (ipykernel)",
   "language": "python",
   "name": "python3"
  },
  "language_info": {
   "codemirror_mode": {
    "name": "ipython",
    "version": 3
   },
   "file_extension": ".py",
   "mimetype": "text/x-python",
   "name": "python",
   "nbconvert_exporter": "python",
   "pygments_lexer": "ipython3",
   "version": "3.9.6"
  }
 },
 "nbformat": 4,
 "nbformat_minor": 5
}
